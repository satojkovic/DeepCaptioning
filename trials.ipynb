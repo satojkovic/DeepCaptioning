{
 "cells": [
  {
   "cell_type": "markdown",
   "metadata": {},
   "source": [
    "### Understanding the data"
   ]
  },
  {
   "cell_type": "code",
   "execution_count": 42,
   "metadata": {},
   "outputs": [],
   "source": [
    "import json\n",
    "from IPython.display import JSON\n",
    "import pprint"
   ]
  },
  {
   "cell_type": "code",
   "execution_count": 2,
   "metadata": {},
   "outputs": [],
   "source": [
    "with open('flickr8k/dataset.json', 'r') as f:\n",
    "    json_data = json.load(f)"
   ]
  },
  {
   "cell_type": "code",
   "execution_count": 4,
   "metadata": {},
   "outputs": [
    {
     "data": {
      "text/plain": [
       "dict_keys(['images', 'dataset'])"
      ]
     },
     "execution_count": 4,
     "metadata": {},
     "output_type": "execute_result"
    }
   ],
   "source": [
    "json_data.keys()"
   ]
  },
  {
   "cell_type": "code",
   "execution_count": 12,
   "metadata": {},
   "outputs": [
    {
     "data": {
      "text/plain": [
       "'flickr8k'"
      ]
     },
     "execution_count": 12,
     "metadata": {},
     "output_type": "execute_result"
    }
   ],
   "source": [
    "json_data['dataset']"
   ]
  },
  {
   "cell_type": "code",
   "execution_count": 38,
   "metadata": {},
   "outputs": [
    {
     "data": {
      "text/plain": [
       "dict_keys(['sentids', 'imgid', 'sentences', 'split', 'filename'])"
      ]
     },
     "execution_count": 38,
     "metadata": {},
     "output_type": "execute_result"
    }
   ],
   "source": [
    "json_data['images'][0].keys()"
   ]
  },
  {
   "cell_type": "code",
   "execution_count": 44,
   "metadata": {},
   "outputs": [
    {
     "name": "stdout",
     "output_type": "stream",
     "text": [
      "{'filename': '2513260012_03d33305cf.jpg',\n",
      " 'imgid': 0,\n",
      " 'sentences': [{'imgid': 0,\n",
      "                'raw': 'A black dog is running after a white dog in the snow .',\n",
      "                'sentid': 0,\n",
      "                'tokens': ['a',\n",
      "                           'black',\n",
      "                           'dog',\n",
      "                           'is',\n",
      "                           'running',\n",
      "                           'after',\n",
      "                           'a',\n",
      "                           'white',\n",
      "                           'dog',\n",
      "                           'in',\n",
      "                           'the',\n",
      "                           'snow']},\n",
      "               {'imgid': 0,\n",
      "                'raw': 'Black dog chasing brown dog through snow',\n",
      "                'sentid': 1,\n",
      "                'tokens': ['black',\n",
      "                           'dog',\n",
      "                           'chasing',\n",
      "                           'brown',\n",
      "                           'dog',\n",
      "                           'through',\n",
      "                           'snow']},\n",
      "               {'imgid': 0,\n",
      "                'raw': 'Two dogs chase each other across the snowy ground .',\n",
      "                'sentid': 2,\n",
      "                'tokens': ['two',\n",
      "                           'dogs',\n",
      "                           'chase',\n",
      "                           'each',\n",
      "                           'other',\n",
      "                           'across',\n",
      "                           'the',\n",
      "                           'snowy',\n",
      "                           'ground']},\n",
      "               {'imgid': 0,\n",
      "                'raw': 'Two dogs play together in the snow .',\n",
      "                'sentid': 3,\n",
      "                'tokens': ['two',\n",
      "                           'dogs',\n",
      "                           'play',\n",
      "                           'together',\n",
      "                           'in',\n",
      "                           'the',\n",
      "                           'snow']},\n",
      "               {'imgid': 0,\n",
      "                'raw': 'Two dogs running through a low lying body of water .',\n",
      "                'sentid': 4,\n",
      "                'tokens': ['two',\n",
      "                           'dogs',\n",
      "                           'running',\n",
      "                           'through',\n",
      "                           'a',\n",
      "                           'low',\n",
      "                           'lying',\n",
      "                           'body',\n",
      "                           'of',\n",
      "                           'water']}],\n",
      " 'sentids': [0, 1, 2, 3, 4],\n",
      " 'split': 'train'}\n"
     ]
    }
   ],
   "source": [
    "pprint.pprint(json_data['images'][0])"
   ]
  },
  {
   "cell_type": "code",
   "execution_count": null,
   "metadata": {},
   "outputs": [],
   "source": []
  }
 ],
 "metadata": {
  "kernelspec": {
   "display_name": "Python 3",
   "language": "python",
   "name": "python3"
  },
  "language_info": {
   "codemirror_mode": {
    "name": "ipython",
    "version": 3
   },
   "file_extension": ".py",
   "mimetype": "text/x-python",
   "name": "python",
   "nbconvert_exporter": "python",
   "pygments_lexer": "ipython3",
   "version": "3.6.5"
  }
 },
 "nbformat": 4,
 "nbformat_minor": 2
}
